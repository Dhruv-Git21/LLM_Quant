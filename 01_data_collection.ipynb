{
 "cells": [
  {
   "cell_type": "markdown",
   "id": "f82dd4d4",
   "metadata": {},
   "source": [
    "# 01 Data Collection\n",
    "\n",
    "Download and store all required data for the project.\n"
   ]
  },
  {
   "cell_type": "code",
   "execution_count": null,
   "id": "1016e8cf",
   "metadata": {},
   "outputs": [],
   "source": [
    "# Imports and setup\n",
    "import os\n",
    "from src.data_utils import save_pickle\n",
    "import pandas as pd\n",
    "\n",
    "os.makedirs(\"../data/raw/\", exist_ok=True)\n"
   ]
  },
  {
   "cell_type": "code",
   "execution_count": null,
   "id": "bc044204",
   "metadata": {},
   "outputs": [],
   "source": [
    "# S&P 500 tickers\n",
    "tickers = pd.read_html('https://en.wikipedia.org/wiki/List_of_S%26P_500_companies')[0]['Symbol'].tolist()\n",
    "tickers = tickers[:20]  # Use first 20 for demo (change for full run)\n"
   ]
  },
  {
   "cell_type": "code",
   "execution_count": null,
   "id": "c5d17390",
   "metadata": {},
   "outputs": [],
   "source": [
    "# Download OHLCV\n",
    "import yfinance as yf\n",
    "\n",
    "data = yf.download(tickers, start=\"2015-01-01\", end=\"2024-06-01\", group_by='ticker', threads=True)\n",
    "save_pickle(data, '../data/raw/ohlcv.pkl')\n"
   ]
  },
  {
   "cell_type": "code",
   "execution_count": null,
   "id": "a210332c",
   "metadata": {},
   "outputs": [],
   "source": [
    "# Download Fama-French daily factors\n",
    "import pandas_datareader.data as web\n",
    "ff_factors = web.DataReader('F-F_Research_Data_Factors_daily', 'famafrench')[0]\n",
    "save_pickle(ff_factors, '../data/raw/ff_factors.pkl')\n"
   ]
  },
  {
   "cell_type": "code",
   "execution_count": null,
   "id": "1082a672",
   "metadata": {},
   "outputs": [],
   "source": [
    "# Download example news headlines (FMP/Finnhub/CSV/manual)\n",
    "# For demo: Use a small sample\n",
    "import pandas as pd\n",
    "\n",
    "news = pd.DataFrame({\n",
    "    'date': ['2024-05-01', '2024-05-01'],\n",
    "    'ticker': ['AAPL', 'MSFT'],\n",
    "    'headline': [\n",
    "        'Apple reports record quarterly earnings despite supply chain challenges.',\n",
    "        'Microsoft launches new AI services, driving bullish investor sentiment.'\n",
    "    ]\n",
    "})\n",
    "news.to_csv('../data/raw/news.csv', index=False)\n"
   ]
  },
  {
   "cell_type": "code",
   "execution_count": null,
   "id": "4fe6c6d1",
   "metadata": {},
   "outputs": [],
   "source": [
    "# 01 Data Collection\n",
    "\n",
    "import os\n",
    "import pandas as pd\n",
    "from src.data_utils import save_pickle\n",
    "\n",
    "os.makedirs(\"../data/raw/\", exist_ok=True)\n",
    "\n",
    "# S&P 500 tickers\n",
    "tickers = pd.read_html('https://en.wikipedia.org/wiki/List_of_S%26P_500_companies')[0]['Symbol'].tolist()\n",
    "tickers = [t for t in tickers if '-' not in t][:20]  # Filter for demo\n",
    "\n",
    "# Download OHLCV with yfinance\n",
    "import yfinance as yf\n",
    "data = yf.download(tickers, start=\"2015-01-01\", end=\"2024-06-01\", group_by='ticker', threads=True)\n",
    "save_pickle(data, '../data/raw/ohlcv.pkl')\n",
    "\n",
    "# Download Fama-French daily factors\n",
    "import pandas_datareader.data as web\n",
    "ff_factors = web.DataReader('F-F_Research_Data_Factors_daily', 'famafrench')[0]\n",
    "save_pickle(ff_factors, '../data/raw/ff_factors.pkl')\n",
    "\n",
    "# Download dummy news headlines (for demo, real workflow: use Finnhub, NewsAPI, or your own news dump)\n",
    "news = pd.DataFrame({\n",
    "    'date': ['2024-05-01', '2024-05-01'],\n",
    "    'ticker': ['AAPL', 'MSFT'],\n",
    "    'headline': [\n",
    "        'Apple reports record quarterly earnings despite supply chain challenges.',\n",
    "        'Microsoft launches new AI services, driving bullish investor sentiment.'\n",
    "    ]\n",
    "})\n",
    "news.to_csv('../data/raw/news.csv', index=False)\n"
   ]
  }
 ],
 "metadata": {
  "kernelspec": {
   "display_name": "base",
   "language": "python",
   "name": "python3"
  },
  "language_info": {
   "name": "python",
   "version": "3.12.3"
  }
 },
 "nbformat": 4,
 "nbformat_minor": 5
}
