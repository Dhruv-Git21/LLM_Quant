{
 "cells": [
  {
   "cell_type": "markdown",
   "id": "21975be3",
   "metadata": {},
   "source": [
    "# 02 Feature Engineering\n",
    "\n",
    "Generate technical and fundamental features for each ticker.\n"
   ]
  },
  {
   "cell_type": "code",
   "execution_count": null,
   "id": "43a2ef03",
   "metadata": {},
   "outputs": [],
   "source": [
    "from src.data_utils import load_pickle, save_pickle\n",
    "from src.tech_fund_features import compute_technical_indicators\n",
    "\n",
    "import pandas as pd\n",
    "import os\n",
    "\n",
    "os.makedirs(\"../data/processed/\", exist_ok=True)\n",
    "ohlcv = load_pickle('../data/raw/ohlcv.pkl')\n"
   ]
  },
  {
   "cell_type": "code",
   "execution_count": null,
   "id": "8e6e6a3c",
   "metadata": {},
   "outputs": [],
   "source": [
    "# Compute technical indicators for each ticker\n",
    "features_dict = {}\n",
    "for ticker in ohlcv.columns.levels[0]:\n",
    "    df = ohlcv[ticker].dropna()\n",
    "    if len(df) < 30:  # skip very short data\n",
    "        continue\n",
    "    feats = compute_technical_indicators(df)\n",
    "    feats['ticker'] = ticker\n",
    "    features_dict[ticker] = feats\n",
    "\n",
    "features = pd.concat(features_dict.values(), keys=features_dict.keys())\n",
    "save_pickle(features, '../data/processed/features.pkl')\n"
   ]
  },
  {
   "cell_type": "code",
   "execution_count": null,
   "id": "77086833",
   "metadata": {},
   "outputs": [],
   "source": [
    "# 02 Feature Engineering\n",
    "\n",
    "from src.data_utils import load_pickle, save_pickle\n",
    "from src.tech_fund_features import compute_technical_indicators\n",
    "\n",
    "import pandas as pd\n",
    "import os\n",
    "\n",
    "os.makedirs(\"../data/processed/\", exist_ok=True)\n",
    "ohlcv = load_pickle('../data/raw/ohlcv.pkl')\n",
    "\n",
    "# Compute technical indicators for each ticker\n",
    "features_list = []\n",
    "for ticker in ohlcv.columns.levels[0]:\n",
    "    df = ohlcv[ticker].dropna()\n",
    "    if len(df) < 30:\n",
    "        continue\n",
    "    feats = compute_technical_indicators(df)\n",
    "    feats['ticker'] = ticker\n",
    "    feats['date'] = feats.index\n",
    "    features_list.append(feats)\n",
    "\n",
    "features = pd.concat(features_list)\n",
    "features.set_index(['date', 'ticker'], inplace=True)\n",
    "save_pickle(features, '../data/processed/features.pkl')\n"
   ]
  }
 ],
 "metadata": {
  "kernelspec": {
   "display_name": "base",
   "language": "python",
   "name": "python3"
  },
  "language_info": {
   "name": "python",
   "version": "3.12.3"
  }
 },
 "nbformat": 4,
 "nbformat_minor": 5
}
