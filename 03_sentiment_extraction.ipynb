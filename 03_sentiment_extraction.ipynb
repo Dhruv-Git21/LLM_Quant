{
 "cells": [
  {
   "cell_type": "markdown",
   "id": "f1fde1c7",
   "metadata": {},
   "source": [
    "# 03 Sentiment Extraction\n",
    "\n",
    "Extract structured sentiment scores from news using FinBERT or GPT-based LLMs.\n"
   ]
  },
  {
   "cell_type": "code",
   "execution_count": null,
   "id": "fa4f53ec",
   "metadata": {},
   "outputs": [],
   "source": [
    "from src.llm_sentiment import sentiment_df\n",
    "import pandas as pd\n",
    "from src.data_utils import save_pickle\n",
    "\n",
    "news = pd.read_csv('../data/raw/news.csv')\n",
    "news_sentiment = sentiment_df(news)\n",
    "save_pickle(news_sentiment, '../data/processed/news_sentiment.pkl')\n",
    "news_sentiment.head()\n"
   ]
  },
  {
   "cell_type": "code",
   "execution_count": null,
   "id": "059355d0",
   "metadata": {},
   "outputs": [],
   "source": [
    "# 03 Sentiment Extraction\n",
    "\n",
    "from src.llm_sentiment import sentiment_df\n",
    "import pandas as pd\n",
    "from src.data_utils import save_pickle\n",
    "\n",
    "news = pd.read_csv('../data/raw/news.csv')\n",
    "news_sentiment = sentiment_df(news)\n",
    "news_sentiment['date'] = pd.to_datetime(news_sentiment['date'])\n",
    "news_sentiment.set_index(['date', 'ticker'], inplace=True)\n",
    "save_pickle(news_sentiment, '../data/processed/news_sentiment.pkl')\n",
    "news_sentiment.head()\n"
   ]
  }
 ],
 "metadata": {
  "kernelspec": {
   "display_name": "base",
   "language": "python",
   "name": "python3"
  },
  "language_info": {
   "name": "python",
   "version": "3.12.3"
  }
 },
 "nbformat": 4,
 "nbformat_minor": 5
}
