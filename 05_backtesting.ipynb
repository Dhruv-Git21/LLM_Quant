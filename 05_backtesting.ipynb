{
 "cells": [
  {
   "cell_type": "markdown",
   "id": "a1a0f0e3",
   "metadata": {},
   "source": [
    "# 05 Backtesting\n",
    "\n",
    "Simulate portfolio performance using predicted residuals.\n"
   ]
  },
  {
   "cell_type": "code",
   "execution_count": null,
   "id": "c755bb3f",
   "metadata": {},
   "outputs": [],
   "source": [
    "from src.data_utils import load_pickle\n",
    "from src.portfolio import run_long_short_strategy\n",
    "from src.evaluation import evaluate_performance, plot_performance\n",
    "\n",
    "import pandas as pd\n",
    "\n",
    "preds = load_pickle('../data/processed/predictions.pkl')\n",
    "# Simulate returns for demo\n",
    "returns = preds.copy()\n",
    "returns[:] = 0.001  # dummy constant returns\n",
    "portfolio_returns = run_long_short_strategy(preds, returns)\n",
    "metrics = evaluate_performance(portfolio_returns)\n",
    "print(metrics)\n",
    "plot_performance(portfolio_returns)\n"
   ]
  },
  {
   "cell_type": "code",
   "execution_count": null,
   "id": "8982e5c6",
   "metadata": {},
   "outputs": [],
   "source": [
    "# 05 Backtesting\n",
    "\n",
    "from src.data_utils import load_pickle\n",
    "from src.portfolio import run_long_short_strategy\n",
    "from src.evaluation import evaluate_performance, plot_performance\n",
    "\n",
    "import pandas as pd\n",
    "import numpy as np\n",
    "\n",
    "# Load predictions and test-period actual returns\n",
    "preds_df = load_pickle('../data/processed/predictions.pkl')\n",
    "# preds_df has columns: ['preds', 'y_test'] and y_test index\n",
    "\n",
    "# For backtest, assume one \"rebalance period\" per row (one per date-ticker combo)\n",
    "# In a real workflow, you would use a DataFrame with [dates, tickers] as index and run cross-sectional portfolio formation\n",
    "\n",
    "# For demo, aggregate by date\n",
    "if isinstance(preds_df.index, pd.MultiIndex):\n",
    "    preds_by_date = preds_df.reset_index().groupby('date').agg({'preds':'mean', 'y_test':'mean'})\n",
    "else:\n",
    "    preds_by_date = preds_df\n",
    "\n",
    "# Simulate returns: if you have true returns, use them! Here we'll use y_test as realized return.\n",
    "# For each period: \"go long\" when prediction is high, \"short\" when prediction is low (simple directional bet)\n",
    "returns = preds_by_date['y_test']\n",
    "signals = preds_by_date['preds']\n",
    "\n",
    "# Long-short: long if prediction > 0, short if < 0\n",
    "portfolio_returns = []\n",
    "for s, r in zip(signals, returns):\n",
    "    if s > 0:\n",
    "        portfolio_returns.append(r)\n",
    "    else:\n",
    "        portfolio_returns.append(-r)\n",
    "portfolio_returns = pd.Series(portfolio_returns, index=preds_by_date.index)\n",
    "\n",
    "# Evaluate and plot\n",
    "metrics = evaluate_performance(portfolio_returns)\n",
    "print(\"Backtest Performance Metrics:\", metrics)\n",
    "plot_performance(portfolio_returns)\n"
   ]
  }
 ],
 "metadata": {
  "kernelspec": {
   "display_name": "base",
   "language": "python",
   "name": "python3"
  },
  "language_info": {
   "name": "python",
   "version": "3.12.3"
  }
 },
 "nbformat": 4,
 "nbformat_minor": 5
}
