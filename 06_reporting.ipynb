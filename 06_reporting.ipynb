{
 "cells": [
  {
   "cell_type": "markdown",
   "id": "f9e67a80",
   "metadata": {},
   "source": [
    "# 06 Reporting & Visualization\n",
    "\n",
    "Summary tables and publication-quality plots.\n"
   ]
  },
  {
   "cell_type": "code",
   "execution_count": null,
   "id": "9cf0df43",
   "metadata": {},
   "outputs": [],
   "source": [
    "# 06 Reporting & Visualization\n",
    "\n",
    "from src.data_utils import load_pickle\n",
    "from src.evaluation import plot_performance, plot_shap_values\n",
    "from src.residual_model import train_residual_model\n",
    "\n",
    "import pandas as pd\n",
    "\n",
    "# Load portfolio returns\n",
    "preds_df = load_pickle('../data/processed/predictions.pkl')\n",
    "if isinstance(preds_df.index, pd.MultiIndex):\n",
    "    preds_by_date = preds_df.reset_index().groupby('date').agg({'preds':'mean', 'y_test':'mean'})\n",
    "else:\n",
    "    preds_by_date = preds_df\n",
    "returns = preds_by_date['y_test']\n",
    "signals = preds_by_date['preds']\n",
    "\n",
    "portfolio_returns = []\n",
    "for s, r in zip(signals, returns):\n",
    "    if s > 0:\n",
    "        portfolio_returns.append(r)\n",
    "    else:\n",
    "        portfolio_returns.append(-r)\n",
    "portfolio_returns = pd.Series(portfolio_returns, index=preds_by_date.index)\n",
    "\n",
    "# Plot cumulative performance\n",
    "plot_performance(portfolio_returns)\n"
   ]
  },
  {
   "cell_type": "code",
   "execution_count": null,
   "id": "4969973e",
   "metadata": {},
   "outputs": [],
   "source": [
    "# SHAP feature attribution (optional)\n",
    "from src.data_utils import load_pickle\n",
    "from src.residual_model import train_residual_model\n",
    "from src.evaluation import plot_shap_values\n",
    "\n",
    "# For SHAP, use the model and features from training\n",
    "features = load_pickle('../data/processed/features.pkl')\n",
    "target = features['residual']\n",
    "model, _, _ = train_residual_model(features.drop(columns=['residual']), target)\n",
    "plot_shap_values(model, features.drop(columns=['residual']))\n"
   ]
  }
 ],
 "metadata": {
  "kernelspec": {
   "display_name": "base",
   "language": "python",
   "name": "python3"
  },
  "language_info": {
   "name": "python",
   "version": "3.12.3"
  }
 },
 "nbformat": 4,
 "nbformat_minor": 5
}
